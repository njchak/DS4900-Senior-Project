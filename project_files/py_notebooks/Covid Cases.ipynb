{
 "cells": [
  {
   "cell_type": "code",
   "execution_count": 35,
   "id": "turned-seating",
   "metadata": {},
   "outputs": [],
   "source": [
    "import pandas as pd\n",
    "from matplotlib import pyplot as plt\n",
    "%matplotlib notebook"
   ]
  },
  {
   "cell_type": "code",
   "execution_count": 36,
   "id": "wired-architecture",
   "metadata": {},
   "outputs": [],
   "source": [
    "df = pd.read_csv('us-counties.csv')"
   ]
  },
  {
   "cell_type": "code",
   "execution_count": 30,
   "id": "under-context",
   "metadata": {},
   "outputs": [],
   "source": [
    "def plot_county_data(county_name, state_name):\n",
    "    filtered_df = df[(df['county'] == county_name) & (df['state'] == state_name)]\n",
    "    filtered_df['daily'] = filtered_df['cases'].diff().fillna(filtered_df['cases'])\n",
    "    filtered_df = filtered_df[filtered_df.daily > 0]\n",
    "#     plt.plot(filtered_df['date'], filtered_df['daily'])\n",
    "#     plt.show()\n",
    "    return filtered_df"
   ]
  },
  {
   "cell_type": "code",
   "execution_count": 33,
   "id": "premier-agreement",
   "metadata": {},
   "outputs": [
    {
     "name": "stderr",
     "output_type": "stream",
     "text": [
      "C:\\Users\\Nicholas\\AppData\\Local\\Programs\\Python\\Python37\\lib\\site-packages\\ipykernel_launcher.py:3: SettingWithCopyWarning: \n",
      "A value is trying to be set on a copy of a slice from a DataFrame.\n",
      "Try using .loc[row_indexer,col_indexer] = value instead\n",
      "\n",
      "See the caveats in the documentation: https://pandas.pydata.org/pandas-docs/stable/user_guide/indexing.html#returning-a-view-versus-a-copy\n",
      "  This is separate from the ipykernel package so we can avoid doing imports until\n",
      "C:\\Users\\Nicholas\\AppData\\Local\\Programs\\Python\\Python37\\lib\\site-packages\\ipykernel_launcher.py:3: SettingWithCopyWarning: \n",
      "A value is trying to be set on a copy of a slice from a DataFrame.\n",
      "Try using .loc[row_indexer,col_indexer] = value instead\n",
      "\n",
      "See the caveats in the documentation: https://pandas.pydata.org/pandas-docs/stable/user_guide/indexing.html#returning-a-view-versus-a-copy\n",
      "  This is separate from the ipykernel package so we can avoid doing imports until\n",
      "C:\\Users\\Nicholas\\AppData\\Local\\Programs\\Python\\Python37\\lib\\site-packages\\ipykernel_launcher.py:3: SettingWithCopyWarning: \n",
      "A value is trying to be set on a copy of a slice from a DataFrame.\n",
      "Try using .loc[row_indexer,col_indexer] = value instead\n",
      "\n",
      "See the caveats in the documentation: https://pandas.pydata.org/pandas-docs/stable/user_guide/indexing.html#returning-a-view-versus-a-copy\n",
      "  This is separate from the ipykernel package so we can avoid doing imports until\n",
      "C:\\Users\\Nicholas\\AppData\\Local\\Programs\\Python\\Python37\\lib\\site-packages\\ipykernel_launcher.py:3: SettingWithCopyWarning: \n",
      "A value is trying to be set on a copy of a slice from a DataFrame.\n",
      "Try using .loc[row_indexer,col_indexer] = value instead\n",
      "\n",
      "See the caveats in the documentation: https://pandas.pydata.org/pandas-docs/stable/user_guide/indexing.html#returning-a-view-versus-a-copy\n",
      "  This is separate from the ipykernel package so we can avoid doing imports until\n"
     ]
    }
   ],
   "source": [
    "#For plots, plot one at a time \n",
    "\n",
    "mia = plot_county_data('Miami-Dade', 'Florida')\n",
    "nyc = plot_county_data('New York City', 'New York')\n",
    "chi = plot_county_data('Cook', 'Illinois')\n",
    "bos = plot_county_data('Suffolk', 'Massachusetts')"
   ]
  },
  {
   "cell_type": "code",
   "execution_count": 34,
   "id": "split-regression",
   "metadata": {},
   "outputs": [],
   "source": [
    "mia.to_csv('mia_cases.csv')\n",
    "bos.to_csv(\"bos_cases.csv\")\n",
    "nyc.to_csv('nyc_cases.csv')\n",
    "chi.to_csv('chi_cases.csv')"
   ]
  }
 ],
 "metadata": {
  "kernelspec": {
   "display_name": "Python 3",
   "language": "python",
   "name": "python3"
  },
  "language_info": {
   "codemirror_mode": {
    "name": "ipython",
    "version": 3
   },
   "file_extension": ".py",
   "mimetype": "text/x-python",
   "name": "python",
   "nbconvert_exporter": "python",
   "pygments_lexer": "ipython3",
   "version": "3.7.6"
  }
 },
 "nbformat": 4,
 "nbformat_minor": 5
}
