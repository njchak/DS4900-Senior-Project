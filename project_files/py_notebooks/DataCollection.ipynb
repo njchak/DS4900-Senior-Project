{
 "cells": [
  {
   "cell_type": "code",
   "execution_count": 15,
   "metadata": {
    "id": "kkVutQl8agdV"
   },
   "outputs": [],
   "source": [
    "import requests\n",
    "import datetime\n",
    "from datetime import datetime \n",
    "import json\n",
    "from psaw import PushshiftAPI\n",
    "import pandas as pd"
   ]
  },
  {
   "cell_type": "code",
   "execution_count": 23,
   "metadata": {
    "colab": {
     "base_uri": "https://localhost:8080/"
    },
    "id": "tQjZB670cL5W",
    "outputId": "61246632-cd92-4a49-b85f-5e1b7873b5c0"
   },
   "outputs": [],
   "source": [
    "def get_submissions(subreddit, start, end, filename):\n",
    "    api = PushshiftAPI()\n",
    "    start_time = int(start.timestamp())\n",
    "    end_time = int(end.timestamp())\n",
    "    submissions = list(api.search_submissions(after=start_time, before=end_time,\n",
    "                                subreddit=subreddit,\n",
    "                                filter=['title','created_utc','selftext'],\n",
    "                                ))\n",
    "    df = pd.DataFrame([row.d_ for row in submissions])\n",
    "    df.to_csv(filename)\n",
    "    print(\"Total rows: \" + str(len(submissions)))\n",
    "    return df"
   ]
  },
  {
   "cell_type": "code",
   "execution_count": 24,
   "metadata": {},
   "outputs": [],
   "source": [
    "start = datetime(2020,3,1)\n",
    "end = datetime(2021, 3, 2)"
   ]
  },
  {
   "cell_type": "code",
   "execution_count": 25,
   "metadata": {
    "id": "qlYzA7QCawc8"
   },
   "outputs": [
    {
     "name": "stdout",
     "output_type": "stream",
     "text": [
      "Total rows: 21059\n"
     ]
    },
    {
     "data": {
      "text/html": [
       "<div>\n",
       "<style scoped>\n",
       "    .dataframe tbody tr th:only-of-type {\n",
       "        vertical-align: middle;\n",
       "    }\n",
       "\n",
       "    .dataframe tbody tr th {\n",
       "        vertical-align: top;\n",
       "    }\n",
       "\n",
       "    .dataframe thead th {\n",
       "        text-align: right;\n",
       "    }\n",
       "</style>\n",
       "<table border=\"1\" class=\"dataframe\">\n",
       "  <thead>\n",
       "    <tr style=\"text-align: right;\">\n",
       "      <th></th>\n",
       "      <th>created_utc</th>\n",
       "      <th>selftext</th>\n",
       "      <th>title</th>\n",
       "      <th>created</th>\n",
       "    </tr>\n",
       "  </thead>\n",
       "  <tbody>\n",
       "    <tr>\n",
       "      <th>0</th>\n",
       "      <td>1614488994</td>\n",
       "      <td>Hello everyone my name is katie. I am  writing...</td>\n",
       "      <td>Advice needed</td>\n",
       "      <td>1.614503e+09</td>\n",
       "    </tr>\n",
       "    <tr>\n",
       "      <th>1</th>\n",
       "      <td>1614487976</td>\n",
       "      <td></td>\n",
       "      <td>Random club looking room at the intercontinent...</td>\n",
       "      <td>1.614502e+09</td>\n",
       "    </tr>\n",
       "    <tr>\n",
       "      <th>2</th>\n",
       "      <td>1614486304</td>\n",
       "      <td>Has anyone had any experience with showing the...</td>\n",
       "      <td>Apartment showings during COVID?</td>\n",
       "      <td>1.614501e+09</td>\n",
       "    </tr>\n",
       "    <tr>\n",
       "      <th>3</th>\n",
       "      <td>1614486265</td>\n",
       "      <td></td>\n",
       "      <td>Photo I took in Boston on 35mm film (IG is @ a...</td>\n",
       "      <td>1.614501e+09</td>\n",
       "    </tr>\n",
       "    <tr>\n",
       "      <th>4</th>\n",
       "      <td>1614482470</td>\n",
       "      <td>My gf sister’s 30th bday is coming up and she ...</td>\n",
       "      <td>Seafood tower to go</td>\n",
       "      <td>1.614497e+09</td>\n",
       "    </tr>\n",
       "    <tr>\n",
       "      <th>...</th>\n",
       "      <td>...</td>\n",
       "      <td>...</td>\n",
       "      <td>...</td>\n",
       "      <td>...</td>\n",
       "    </tr>\n",
       "    <tr>\n",
       "      <th>21054</th>\n",
       "      <td>1583068114</td>\n",
       "      <td></td>\n",
       "      <td>Hancock Tower in 1972.</td>\n",
       "      <td>1.583083e+09</td>\n",
       "    </tr>\n",
       "    <tr>\n",
       "      <th>21055</th>\n",
       "      <td>1583065732</td>\n",
       "      <td></td>\n",
       "      <td>Jason M. Rubin on WRITING STUFF Podcast (with ...</td>\n",
       "      <td>1.583080e+09</td>\n",
       "    </tr>\n",
       "    <tr>\n",
       "      <th>21056</th>\n",
       "      <td>1583063701</td>\n",
       "      <td></td>\n",
       "      <td>As construction booms, Boston works to slow do...</td>\n",
       "      <td>1.583078e+09</td>\n",
       "    </tr>\n",
       "    <tr>\n",
       "      <th>21057</th>\n",
       "      <td>1583047924</td>\n",
       "      <td>Bostonians of reddit, here is my predicament.\\...</td>\n",
       "      <td>Please, for the love of god, help this old man...</td>\n",
       "      <td>1.583062e+09</td>\n",
       "    </tr>\n",
       "    <tr>\n",
       "      <th>21058</th>\n",
       "      <td>1583047873</td>\n",
       "      <td>I'm giving away a 27\" 1080p 60hz Acer monitor,...</td>\n",
       "      <td>Looking for a broke gaming student looking to ...</td>\n",
       "      <td>1.583062e+09</td>\n",
       "    </tr>\n",
       "  </tbody>\n",
       "</table>\n",
       "<p>21059 rows × 4 columns</p>\n",
       "</div>"
      ],
      "text/plain": [
       "       created_utc                                           selftext  \\\n",
       "0       1614488994  Hello everyone my name is katie. I am  writing...   \n",
       "1       1614487976                                                      \n",
       "2       1614486304  Has anyone had any experience with showing the...   \n",
       "3       1614486265                                                      \n",
       "4       1614482470  My gf sister’s 30th bday is coming up and she ...   \n",
       "...            ...                                                ...   \n",
       "21054   1583068114                                                      \n",
       "21055   1583065732                                                      \n",
       "21056   1583063701                                                      \n",
       "21057   1583047924  Bostonians of reddit, here is my predicament.\\...   \n",
       "21058   1583047873  I'm giving away a 27\" 1080p 60hz Acer monitor,...   \n",
       "\n",
       "                                                   title       created  \n",
       "0                                          Advice needed  1.614503e+09  \n",
       "1      Random club looking room at the intercontinent...  1.614502e+09  \n",
       "2                       Apartment showings during COVID?  1.614501e+09  \n",
       "3      Photo I took in Boston on 35mm film (IG is @ a...  1.614501e+09  \n",
       "4                                    Seafood tower to go  1.614497e+09  \n",
       "...                                                  ...           ...  \n",
       "21054                             Hancock Tower in 1972.  1.583083e+09  \n",
       "21055  Jason M. Rubin on WRITING STUFF Podcast (with ...  1.583080e+09  \n",
       "21056  As construction booms, Boston works to slow do...  1.583078e+09  \n",
       "21057  Please, for the love of god, help this old man...  1.583062e+09  \n",
       "21058  Looking for a broke gaming student looking to ...  1.583062e+09  \n",
       "\n",
       "[21059 rows x 4 columns]"
      ]
     },
     "execution_count": 25,
     "metadata": {},
     "output_type": "execute_result"
    }
   ],
   "source": [
    "get_submissions('boston', start, end, 'boston_updated.csv')"
   ]
  },
  {
   "cell_type": "code",
   "execution_count": 26,
   "metadata": {},
   "outputs": [
    {
     "name": "stderr",
     "output_type": "stream",
     "text": [
      "C:\\Users\\Nicholas\\AppData\\Local\\Programs\\Python\\Python37\\lib\\site-packages\\psaw\\PushshiftAPI.py:252: UserWarning: Not all PushShift shards are active. Query results may be incomplete\n",
      "  warnings.warn(shards_down_message)\n",
      "C:\\Users\\Nicholas\\AppData\\Local\\Programs\\Python\\Python37\\lib\\site-packages\\psaw\\PushshiftAPI.py:192: UserWarning: Got non 200 code 429\n",
      "  warnings.warn(\"Got non 200 code %s\" % response.status_code)\n",
      "C:\\Users\\Nicholas\\AppData\\Local\\Programs\\Python\\Python37\\lib\\site-packages\\psaw\\PushshiftAPI.py:180: UserWarning: Unable to connect to pushshift.io. Retrying after backoff.\n",
      "  warnings.warn(\"Unable to connect to pushshift.io. Retrying after backoff.\")\n"
     ]
    },
    {
     "name": "stdout",
     "output_type": "stream",
     "text": [
      "Total rows: 23230\n",
      "Total rows: 37643\n",
      "Total rows: 8163\n"
     ]
    }
   ],
   "source": [
    "chi = get_submissions('chicago', start, end, 'chicago_updated.csv')\n",
    "nyc = get_submissions('nyc', start, end, 'nyc_updated.csv')\n",
    "mia = get_submissions('miami', start, end, 'miami_updated.csv')"
   ]
  },
  {
   "cell_type": "code",
   "execution_count": null,
   "metadata": {},
   "outputs": [],
   "source": []
  }
 ],
 "metadata": {
  "colab": {
   "name": "DataCollection.ipynb",
   "provenance": []
  },
  "kernelspec": {
   "display_name": "Python 3",
   "language": "python",
   "name": "python3"
  },
  "language_info": {
   "codemirror_mode": {
    "name": "ipython",
    "version": 3
   },
   "file_extension": ".py",
   "mimetype": "text/x-python",
   "name": "python",
   "nbconvert_exporter": "python",
   "pygments_lexer": "ipython3",
   "version": "3.7.6"
  }
 },
 "nbformat": 4,
 "nbformat_minor": 1
}
