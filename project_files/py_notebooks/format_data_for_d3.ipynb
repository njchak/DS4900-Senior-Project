{
 "cells": [
  {
   "cell_type": "code",
   "execution_count": 19,
   "id": "victorian-power",
   "metadata": {},
   "outputs": [],
   "source": [
    "# This notebook formats data to be used by d3.\n",
    "import pandas as pd"
   ]
  },
  {
   "cell_type": "code",
   "execution_count": 20,
   "id": "atmospheric-writer",
   "metadata": {},
   "outputs": [],
   "source": [
    "df = pd.read_csv('us-counties.csv')\n",
    "df['date'] = pd.to_datetime(df['date'])"
   ]
  },
  {
   "cell_type": "code",
   "execution_count": 21,
   "id": "grave-month",
   "metadata": {},
   "outputs": [],
   "source": [
    "def format_daily_data(county_name, state_name, label):\n",
    "    filtered_df = df[(df['county'] == county_name) & (df['state'] == state_name)]\n",
    "    filtered_df['daily'] = filtered_df['cases'].diff().fillna(filtered_df['cases'])\n",
    "    filtered_df.set_index('date', inplace=True)\n",
    "    filtered_df = filtered_df[filtered_df.daily > 0]\n",
    "    weekly_avg = filtered_df['daily'].resample('W').mean()\n",
    "    return weekly_avg"
   ]
  },
  {
   "cell_type": "code",
   "execution_count": 22,
   "id": "informational-darwin",
   "metadata": {},
   "outputs": [
    {
     "name": "stderr",
     "output_type": "stream",
     "text": [
      "C:\\Users\\Nicholas\\AppData\\Local\\Programs\\Python\\Python37\\lib\\site-packages\\ipykernel_launcher.py:3: SettingWithCopyWarning: \n",
      "A value is trying to be set on a copy of a slice from a DataFrame.\n",
      "Try using .loc[row_indexer,col_indexer] = value instead\n",
      "\n",
      "See the caveats in the documentation: https://pandas.pydata.org/pandas-docs/stable/user_guide/indexing.html#returning-a-view-versus-a-copy\n",
      "  This is separate from the ipykernel package so we can avoid doing imports until\n",
      "C:\\Users\\Nicholas\\AppData\\Local\\Programs\\Python\\Python37\\lib\\site-packages\\ipykernel_launcher.py:3: SettingWithCopyWarning: \n",
      "A value is trying to be set on a copy of a slice from a DataFrame.\n",
      "Try using .loc[row_indexer,col_indexer] = value instead\n",
      "\n",
      "See the caveats in the documentation: https://pandas.pydata.org/pandas-docs/stable/user_guide/indexing.html#returning-a-view-versus-a-copy\n",
      "  This is separate from the ipykernel package so we can avoid doing imports until\n",
      "C:\\Users\\Nicholas\\AppData\\Local\\Programs\\Python\\Python37\\lib\\site-packages\\ipykernel_launcher.py:3: SettingWithCopyWarning: \n",
      "A value is trying to be set on a copy of a slice from a DataFrame.\n",
      "Try using .loc[row_indexer,col_indexer] = value instead\n",
      "\n",
      "See the caveats in the documentation: https://pandas.pydata.org/pandas-docs/stable/user_guide/indexing.html#returning-a-view-versus-a-copy\n",
      "  This is separate from the ipykernel package so we can avoid doing imports until\n",
      "C:\\Users\\Nicholas\\AppData\\Local\\Programs\\Python\\Python37\\lib\\site-packages\\ipykernel_launcher.py:3: SettingWithCopyWarning: \n",
      "A value is trying to be set on a copy of a slice from a DataFrame.\n",
      "Try using .loc[row_indexer,col_indexer] = value instead\n",
      "\n",
      "See the caveats in the documentation: https://pandas.pydata.org/pandas-docs/stable/user_guide/indexing.html#returning-a-view-versus-a-copy\n",
      "  This is separate from the ipykernel package so we can avoid doing imports until\n"
     ]
    }
   ],
   "source": [
    "mia = format_daily_data('Miami-Dade', 'Florida', 'Miami')\n",
    "nyc = format_daily_data('New York City', 'New York', 'New York City')\n",
    "chi = format_daily_data('Cook', 'Illinois', 'Chicago')\n",
    "bos = format_daily_data('Suffolk', 'Massachusetts', 'Boston')"
   ]
  },
  {
   "cell_type": "code",
   "execution_count": 33,
   "id": "agreed-print",
   "metadata": {},
   "outputs": [],
   "source": [
    "mia = mia.dropna()\n",
    "nyc = nyc.dropna()\n",
    "chi = chi.dropna()\n",
    "bos = bos.dropna()\n",
    "case_data = pd.concat([mia, nyc, chi, bos], axis = 1).dropna()\n",
    "case_data.columns = ['Miami', 'New York City', 'Chicago', 'Boston']"
   ]
  },
  {
   "cell_type": "code",
   "execution_count": 35,
   "id": "developing-filing",
   "metadata": {},
   "outputs": [],
   "source": [
    "case_data.to_csv('covid_case_data.csv')"
   ]
  },
  {
   "cell_type": "code",
   "execution_count": null,
   "id": "owned-pioneer",
   "metadata": {},
   "outputs": [],
   "source": []
  }
 ],
 "metadata": {
  "kernelspec": {
   "display_name": "Python 3",
   "language": "python",
   "name": "python3"
  },
  "language_info": {
   "codemirror_mode": {
    "name": "ipython",
    "version": 3
   },
   "file_extension": ".py",
   "mimetype": "text/x-python",
   "name": "python",
   "nbconvert_exporter": "python",
   "pygments_lexer": "ipython3",
   "version": "3.7.6"
  }
 },
 "nbformat": 4,
 "nbformat_minor": 5
}
